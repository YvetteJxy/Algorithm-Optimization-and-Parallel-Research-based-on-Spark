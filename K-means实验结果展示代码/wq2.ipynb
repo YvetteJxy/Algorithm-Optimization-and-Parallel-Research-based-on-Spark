{
 "cells": [
  {
   "cell_type": "code",
   "execution_count": 1,
   "metadata": {},
   "outputs": [],
   "source": [
    "from sklearn.metrics import adjusted_rand_score\n",
    "import numpy as np\n",
    "import pandas as pd"
   ]
  },
  {
   "cell_type": "code",
   "execution_count": 2,
   "metadata": {},
   "outputs": [],
   "source": [
    "# SlavesNum = 1\n",
    "centers_1 = [[6.848672806067182, 0.2724268689057422, 0.33724810400866795, 6.506500541711809, 0.046547670639219836, 35.824214517876484, 140.17524377031418, 0.9941402193932842, 3.1901245937161447, 0.48760563380281696, 10.460642831347068],\n",
    "             [6.759893048128337, 0.2646089572192512, 0.3185494652406421, 4.129044117647061, 0.04090106951871654, 23.95855614973262, 94.86497326203208, 0.9922617179144386, 3.1877272727272725, 0.4775935828877004, 11.127762923351142],\n",
    "             [6.959849119865886, 0.2893797150041911, 0.3540486169321045, 9.406328583403191, 0.05111818943839052, 49.873009220452644, 193.22506286672254, 0.9962919907795477, 3.1818524727577526, 0.5114417435037723, 9.70867560771166],\n",
    "            ]"
   ]
  },
  {
   "cell_type": "code",
   "execution_count": 3,
   "metadata": {},
   "outputs": [],
   "source": [
    "data_1 = pd.read_csv(r\"E:\\研一下\\分布式计算\\final\\datasets\\white_wine_quality_noclass_blank.data\",names=[0,1,2,3,4,5,6,7,8,9,10])"
   ]
  },
  {
   "cell_type": "code",
   "execution_count": 4,
   "metadata": {},
   "outputs": [],
   "source": [
    "distances_1 = np.zeros((data_1.shape[0], len(centers_1)))  # 创建距离矩阵\n",
    "for i in range(len(centers_1)):  # 0 1 2\n",
    "    distances_1[:, i] = np.linalg.norm(data_1.values - centers_1[i], axis=1)"
   ]
  },
  {
   "cell_type": "code",
   "execution_count": 5,
   "metadata": {},
   "outputs": [],
   "source": [
    "labels = np.argmin(distances_1, axis=1)"
   ]
  },
  {
   "cell_type": "code",
   "execution_count": 19,
   "metadata": {},
   "outputs": [
    {
     "data": {
      "text/plain": [
       "array([0, 1, 1, 1], dtype=int64)"
      ]
     },
     "execution_count": 19,
     "metadata": {},
     "output_type": "execute_result"
    }
   ],
   "source": [
    "labels[9:13]"
   ]
  },
  {
   "cell_type": "code",
   "execution_count": 7,
   "metadata": {},
   "outputs": [],
   "source": [
    "# 下面读取true_lables\n",
    "data_true = pd.read_csv(r\"E:\\研一下\\分布式计算\\final\\datasets\\white_wine_quality.data\",names= [0,1,2,3,4,5,6,7,8,9,10,11])"
   ]
  },
  {
   "cell_type": "code",
   "execution_count": 8,
   "metadata": {},
   "outputs": [
    {
     "data": {
      "text/plain": [
       "0     6\n",
       "1     6\n",
       "2     6\n",
       "3     6\n",
       "4     6\n",
       "5     6\n",
       "6     6\n",
       "7     6\n",
       "8     6\n",
       "9     6\n",
       "10    5\n",
       "11    5\n",
       "12    5\n",
       "13    7\n",
       "14    5\n",
       "15    7\n",
       "16    6\n",
       "17    6\n",
       "18    5\n",
       "19    7\n",
       "20    5\n",
       "21    6\n",
       "22    6\n",
       "23    6\n",
       "24    6\n",
       "25    6\n",
       "26    7\n",
       "27    6\n",
       "28    6\n",
       "29    6\n",
       "Name: 11, dtype: int64"
      ]
     },
     "execution_count": 8,
     "metadata": {},
     "output_type": "execute_result"
    }
   ],
   "source": [
    "data_true.iloc[:30,-1]"
   ]
  },
  {
   "cell_type": "code",
   "execution_count": 20,
   "metadata": {},
   "outputs": [],
   "source": [
    "true_labels = []\n",
    "for item in data_true.index:\n",
    "    if item == 6:\n",
    "        true_labels.append(2)\n",
    "    elif item == 5:\n",
    "        true_labels.append(1)\n",
    "    else:\n",
    "        true_labels.append(0)"
   ]
  },
  {
   "cell_type": "code",
   "execution_count": 21,
   "metadata": {},
   "outputs": [
    {
     "data": {
      "text/plain": [
       "array([0, 0, 0, ..., 0, 0, 0])"
      ]
     },
     "execution_count": 21,
     "metadata": {},
     "output_type": "execute_result"
    }
   ],
   "source": [
    "true_labels = np.array(true_labels)\n",
    "true_labels"
   ]
  },
  {
   "cell_type": "code",
   "execution_count": 22,
   "metadata": {},
   "outputs": [
    {
     "data": {
      "text/plain": [
       "0.40749724366041895"
      ]
     },
     "execution_count": 22,
     "metadata": {},
     "output_type": "execute_result"
    }
   ],
   "source": [
    "sum(labels == true_labels)/4535"
   ]
  }
 ],
 "metadata": {
  "kernelspec": {
   "display_name": "Python 3",
   "language": "python",
   "name": "python3"
  },
  "language_info": {
   "codemirror_mode": {
    "name": "ipython",
    "version": 3
   },
   "file_extension": ".py",
   "mimetype": "text/x-python",
   "name": "python",
   "nbconvert_exporter": "python",
   "pygments_lexer": "ipython3",
   "version": "3.6.4"
  }
 },
 "nbformat": 4,
 "nbformat_minor": 2
}
