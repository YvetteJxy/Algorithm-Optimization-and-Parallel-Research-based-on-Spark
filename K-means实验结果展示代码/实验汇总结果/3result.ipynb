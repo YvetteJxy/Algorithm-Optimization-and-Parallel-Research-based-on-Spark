{
 "cells": [
  {
   "cell_type": "code",
   "execution_count": 1,
   "metadata": {},
   "outputs": [
    {
     "name": "stderr",
     "output_type": "stream",
     "text": [
      "\n",
      "Bad key \"text.kerning_factor\" on line 4 in\n",
      "D:\\anaconda\\lib\\site-packages\\matplotlib\\mpl-data\\stylelib\\_classic_test_patch.mplstyle.\n",
      "You probably need to get an updated matplotlibrc file from\n",
      "http://github.com/matplotlib/matplotlib/blob/master/matplotlibrc.template\n",
      "or from the matplotlib source distribution\n"
     ]
    }
   ],
   "source": [
    "from sklearn.metrics import adjusted_rand_score\n",
    "import numpy as np\n",
    "import pandas as pd\n",
    "import matplotlib.pyplot as plt\n",
    "%matplotlib inline\n",
    "import seaborn as sns"
   ]
  },
  {
   "cell_type": "code",
   "execution_count": 3,
   "metadata": {
    "scrolled": true
   },
   "outputs": [],
   "source": [
    "data_bean = pd.read_excel(r\"E:/研一下/分布式计算/final/datasets/实验过程/实验汇总结果/soy_result_partition.xlsx\")"
   ]
  },
  {
   "cell_type": "code",
   "execution_count": 4,
   "metadata": {},
   "outputs": [
    {
     "data": {
      "text/html": [
       "<div>\n",
       "<style scoped>\n",
       "    .dataframe tbody tr th:only-of-type {\n",
       "        vertical-align: middle;\n",
       "    }\n",
       "\n",
       "    .dataframe tbody tr th {\n",
       "        vertical-align: top;\n",
       "    }\n",
       "\n",
       "    .dataframe thead th {\n",
       "        text-align: right;\n",
       "    }\n",
       "</style>\n",
       "<table border=\"1\" class=\"dataframe\">\n",
       "  <thead>\n",
       "    <tr style=\"text-align: right;\">\n",
       "      <th></th>\n",
       "      <th>partition</th>\n",
       "      <th>time</th>\n",
       "      <th>accuracy</th>\n",
       "      <th>adrand</th>\n",
       "      <th>ratio</th>\n",
       "    </tr>\n",
       "  </thead>\n",
       "  <tbody>\n",
       "    <tr>\n",
       "      <th>0</th>\n",
       "      <td>1</td>\n",
       "      <td>5833</td>\n",
       "      <td>76.59600</td>\n",
       "      <td>0.56342</td>\n",
       "      <td>1.000000</td>\n",
       "    </tr>\n",
       "    <tr>\n",
       "      <th>1</th>\n",
       "      <td>2</td>\n",
       "      <td>5660</td>\n",
       "      <td>85.10600</td>\n",
       "      <td>0.65099</td>\n",
       "      <td>1.030565</td>\n",
       "    </tr>\n",
       "    <tr>\n",
       "      <th>2</th>\n",
       "      <td>3</td>\n",
       "      <td>5540</td>\n",
       "      <td>70.21300</td>\n",
       "      <td>0.59492</td>\n",
       "      <td>1.052888</td>\n",
       "    </tr>\n",
       "    <tr>\n",
       "      <th>3</th>\n",
       "      <td>4</td>\n",
       "      <td>5913</td>\n",
       "      <td>82.97900</td>\n",
       "      <td>0.67379</td>\n",
       "      <td>0.986470</td>\n",
       "    </tr>\n",
       "    <tr>\n",
       "      <th>4</th>\n",
       "      <td>5</td>\n",
       "      <td>5550</td>\n",
       "      <td>70.21277</td>\n",
       "      <td>0.54516</td>\n",
       "      <td>1.050991</td>\n",
       "    </tr>\n",
       "  </tbody>\n",
       "</table>\n",
       "</div>"
      ],
      "text/plain": [
       "   partition  time  accuracy   adrand     ratio\n",
       "0          1  5833  76.59600  0.56342  1.000000\n",
       "1          2  5660  85.10600  0.65099  1.030565\n",
       "2          3  5540  70.21300  0.59492  1.052888\n",
       "3          4  5913  82.97900  0.67379  0.986470\n",
       "4          5  5550  70.21277  0.54516  1.050991"
      ]
     },
     "execution_count": 4,
     "metadata": {},
     "output_type": "execute_result"
    }
   ],
   "source": [
    "data_bean"
   ]
  },
  {
   "cell_type": "code",
   "execution_count": 5,
   "metadata": {},
   "outputs": [],
   "source": [
    "data_iris = pd.read_excel(r\"E:/研一下/分布式计算/final/datasets/实验过程/实验汇总结果/iris_result_partition.xlsx\")"
   ]
  },
  {
   "cell_type": "code",
   "execution_count": 6,
   "metadata": {},
   "outputs": [
    {
     "data": {
      "text/html": [
       "<div>\n",
       "<style scoped>\n",
       "    .dataframe tbody tr th:only-of-type {\n",
       "        vertical-align: middle;\n",
       "    }\n",
       "\n",
       "    .dataframe tbody tr th {\n",
       "        vertical-align: top;\n",
       "    }\n",
       "\n",
       "    .dataframe thead th {\n",
       "        text-align: right;\n",
       "    }\n",
       "</style>\n",
       "<table border=\"1\" class=\"dataframe\">\n",
       "  <thead>\n",
       "    <tr style=\"text-align: right;\">\n",
       "      <th></th>\n",
       "      <th>partition</th>\n",
       "      <th>time</th>\n",
       "      <th>accuracy</th>\n",
       "      <th>adrand</th>\n",
       "      <th>ratio</th>\n",
       "    </tr>\n",
       "  </thead>\n",
       "  <tbody>\n",
       "    <tr>\n",
       "      <th>0</th>\n",
       "      <td>1</td>\n",
       "      <td>5833</td>\n",
       "      <td>51.333</td>\n",
       "      <td>0.41968</td>\n",
       "      <td>1.000000</td>\n",
       "    </tr>\n",
       "    <tr>\n",
       "      <th>1</th>\n",
       "      <td>2</td>\n",
       "      <td>5660</td>\n",
       "      <td>89.333</td>\n",
       "      <td>0.73024</td>\n",
       "      <td>1.030565</td>\n",
       "    </tr>\n",
       "    <tr>\n",
       "      <th>2</th>\n",
       "      <td>3</td>\n",
       "      <td>5540</td>\n",
       "      <td>56.000</td>\n",
       "      <td>0.42254</td>\n",
       "      <td>1.052888</td>\n",
       "    </tr>\n",
       "    <tr>\n",
       "      <th>3</th>\n",
       "      <td>4</td>\n",
       "      <td>5913</td>\n",
       "      <td>89.333</td>\n",
       "      <td>0.73024</td>\n",
       "      <td>0.986470</td>\n",
       "    </tr>\n",
       "    <tr>\n",
       "      <th>4</th>\n",
       "      <td>5</td>\n",
       "      <td>5550</td>\n",
       "      <td>90.670</td>\n",
       "      <td>0.75620</td>\n",
       "      <td>1.050991</td>\n",
       "    </tr>\n",
       "  </tbody>\n",
       "</table>\n",
       "</div>"
      ],
      "text/plain": [
       "   partition  time  accuracy   adrand     ratio\n",
       "0          1  5833    51.333  0.41968  1.000000\n",
       "1          2  5660    89.333  0.73024  1.030565\n",
       "2          3  5540    56.000  0.42254  1.052888\n",
       "3          4  5913    89.333  0.73024  0.986470\n",
       "4          5  5550    90.670  0.75620  1.050991"
      ]
     },
     "execution_count": 6,
     "metadata": {},
     "output_type": "execute_result"
    }
   ],
   "source": [
    "data_iris"
   ]
  },
  {
   "cell_type": "code",
   "execution_count": 7,
   "metadata": {},
   "outputs": [],
   "source": [
    "data_wine = pd.read_excel(r\"E:/研一下/分布式计算/final/datasets/实验过程/实验汇总结果/wine_result_partition.xlsx\")"
   ]
  },
  {
   "cell_type": "code",
   "execution_count": 8,
   "metadata": {},
   "outputs": [
    {
     "data": {
      "text/html": [
       "<div>\n",
       "<style scoped>\n",
       "    .dataframe tbody tr th:only-of-type {\n",
       "        vertical-align: middle;\n",
       "    }\n",
       "\n",
       "    .dataframe tbody tr th {\n",
       "        vertical-align: top;\n",
       "    }\n",
       "\n",
       "    .dataframe thead th {\n",
       "        text-align: right;\n",
       "    }\n",
       "</style>\n",
       "<table border=\"1\" class=\"dataframe\">\n",
       "  <thead>\n",
       "    <tr style=\"text-align: right;\">\n",
       "      <th></th>\n",
       "      <th>partition</th>\n",
       "      <th>time</th>\n",
       "      <th>accuracy</th>\n",
       "      <th>adrand</th>\n",
       "      <th>ratio</th>\n",
       "    </tr>\n",
       "  </thead>\n",
       "  <tbody>\n",
       "    <tr>\n",
       "      <th>0</th>\n",
       "      <td>1</td>\n",
       "      <td>5833</td>\n",
       "      <td>70.225</td>\n",
       "      <td>0.37111</td>\n",
       "      <td>1.000000</td>\n",
       "    </tr>\n",
       "    <tr>\n",
       "      <th>1</th>\n",
       "      <td>2</td>\n",
       "      <td>5660</td>\n",
       "      <td>70.225</td>\n",
       "      <td>0.37111</td>\n",
       "      <td>1.030565</td>\n",
       "    </tr>\n",
       "    <tr>\n",
       "      <th>2</th>\n",
       "      <td>3</td>\n",
       "      <td>5540</td>\n",
       "      <td>70.225</td>\n",
       "      <td>0.37111</td>\n",
       "      <td>1.052888</td>\n",
       "    </tr>\n",
       "    <tr>\n",
       "      <th>3</th>\n",
       "      <td>4</td>\n",
       "      <td>5913</td>\n",
       "      <td>70.225</td>\n",
       "      <td>0.37111</td>\n",
       "      <td>0.986470</td>\n",
       "    </tr>\n",
       "    <tr>\n",
       "      <th>4</th>\n",
       "      <td>5</td>\n",
       "      <td>5550</td>\n",
       "      <td>56.742</td>\n",
       "      <td>0.35328</td>\n",
       "      <td>1.050991</td>\n",
       "    </tr>\n",
       "  </tbody>\n",
       "</table>\n",
       "</div>"
      ],
      "text/plain": [
       "   partition  time  accuracy   adrand     ratio\n",
       "0          1  5833    70.225  0.37111  1.000000\n",
       "1          2  5660    70.225  0.37111  1.030565\n",
       "2          3  5540    70.225  0.37111  1.052888\n",
       "3          4  5913    70.225  0.37111  0.986470\n",
       "4          5  5550    56.742  0.35328  1.050991"
      ]
     },
     "execution_count": 8,
     "metadata": {},
     "output_type": "execute_result"
    }
   ],
   "source": [
    "data_wine"
   ]
  },
  {
   "cell_type": "code",
   "execution_count": 13,
   "metadata": {},
   "outputs": [],
   "source": [
    "x1 = list(data_bean[\"partition\"].values)"
   ]
  },
  {
   "cell_type": "code",
   "execution_count": 14,
   "metadata": {},
   "outputs": [],
   "source": [
    "# 准确率\n",
    "z1 = list(data_bean[\"accuracy\"].values)\n",
    "z2 = list(data_iris[\"accuracy\"].values)\n",
    "z3 = list(data_wine[\"accuracy\"].values)"
   ]
  },
  {
   "cell_type": "code",
   "execution_count": 15,
   "metadata": {},
   "outputs": [
    {
     "data": {
      "text/plain": [
       "Text(0.5,1,'Accuracy according to Different PartitionNumbers')"
      ]
     },
     "execution_count": 15,
     "metadata": {},
     "output_type": "execute_result"
    },
    {
     "data": {
      "image/png": "[encoded data removed]",
      "text/plain": [
       "<Figure size 432x288 with 1 Axes>"
      ]
     },
     "metadata": {
      "needs_background": "light"
     },
     "output_type": "display_data"
    }
   ],
   "source": [
    "plt.plot(x1, z1, linewidth=1, color=\"orange\", marker=\"o\",label=\"soybean\")\n",
    "plt.plot(x1, z2, linewidth=1, color=\"blue\", marker=\"v\",label=\"iris\")\n",
    "plt.plot(x1, z3, linewidth=1, color=\"green\", marker=\"s\",label=\"wine\")\n",
    "plt.xticks([1,2,3,4,5])\n",
    "plt.legend()\n",
    "plt.xlabel(\"partitions\")\n",
    "plt.ylabel(\"accuracy/100%\")\n",
    "plt.title(\"Accuracy according to Different PartitionNumbers\")"
   ]
  },
  {
   "cell_type": "code",
   "execution_count": 16,
   "metadata": {},
   "outputs": [],
   "source": [
    "# 调整rand\n",
    "a1 = list(data_bean[\"adrand\"].values)\n",
    "a2 = list(data_iris[\"adrand\"].values)\n",
    "a3 = list(data_wine[\"adrand\"].values)"
   ]
  },
  {
   "cell_type": "code",
   "execution_count": 18,
   "metadata": {},
   "outputs": [
    {
     "data": {
      "text/plain": [
       "Text(0.5,1,'Adjusted Rand according to Different PartitionNumbers')"
      ]
     },
     "execution_count": 18,
     "metadata": {},
     "output_type": "execute_result"
    },
    {
     "data": {
      "image/png": "[encoded data removed]",
      "text/plain": [
       "<Figure size 432x288 with 1 Axes>"
      ]
     },
     "metadata": {
      "needs_background": "light"
     },
     "output_type": "display_data"
    }
   ],
   "source": [
    "plt.plot(x1, a1, linewidth=1, color=\"orange\", marker=\"o\",label=\"soybean\")\n",
    "plt.plot(x1, a2, linewidth=1, color=\"blue\", marker=\"v\",label=\"iris\")\n",
    "plt.plot(x1, a3, linewidth=1, color=\"green\", marker=\"s\",label=\"wine\")\n",
    "plt.xticks([1,2,3,4,5])\n",
    "plt.legend()\n",
    "plt.xlabel(\"partitions\")\n",
    "plt.ylabel(\"Adjusted Rand\")\n",
    "plt.title(\"Adjusted Rand according to Different PartitionNumbers\")"
   ]
  },
  {
   "cell_type": "code",
   "execution_count": 69,
   "metadata": {},
   "outputs": [],
   "source": [
    "# 加速比\n",
    "s1 = list(data_bean[\"ratio\"].values)\n",
    "s2 = list(data_iris[\"ratio\"].values)\n",
    "s3 = list(data_wine[\"ratio\"].values)"
   ]
  },
  {
   "cell_type": "code",
   "execution_count": 70,
   "metadata": {},
   "outputs": [
    {
     "data": {
      "text/plain": [
       "Text(0.5,1,'Er according to Different SlavesNumbers')"
      ]
     },
     "execution_count": 70,
     "metadata": {},
     "output_type": "execute_result"
    },
    {
     "data": {
      "image/png": "[encoded data removed]",
      "text/plain": [
       "<Figure size 432x288 with 1 Axes>"
      ]
     },
     "metadata": {
      "needs_background": "light"
     },
     "output_type": "display_data"
    }
   ],
   "source": [
    "plt.plot(x1, s1, linewidth=1, color=\"orange\", marker=\"o\",label=\"soybean\")\n",
    "plt.plot(x2, s2, linewidth=1, color=\"blue\", marker=\"v\",label=\"iris\")\n",
    "plt.plot(x3, s3, linewidth=1, color=\"green\", marker=\"s\",label=\"wine\")\n",
    "plt.xticks([1,2,3,4,5])\n",
    "plt.legend()\n",
    "plt.xlabel(\"slaves\")\n",
    "plt.ylabel(\"Er\")\n",
    "plt.title(\"Er according to Different SlavesNumbers\")"
   ]
  },
  {
   "cell_type": "code",
   "execution_count": null,
   "metadata": {},
   "outputs": [],
   "source": []
  }
 ],
 "metadata": {
  "kernelspec": {
   "display_name": "Python 3",
   "language": "python",
   "name": "python3"
  },
  "language_info": {
   "codemirror_mode": {
    "name": "ipython",
    "version": 3
   },
   "file_extension": ".py",
   "mimetype": "text/x-python",
   "name": "python",
   "nbconvert_exporter": "python",
   "pygments_lexer": "ipython3",
   "version": "3.6.4"
  }
 },
 "nbformat": 4,
 "nbformat_minor": 2
}
